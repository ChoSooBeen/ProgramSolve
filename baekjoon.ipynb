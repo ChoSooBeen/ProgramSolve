{
  "nbformat": 4,
  "nbformat_minor": 0,
  "metadata": {
    "colab": {
      "name": "baekjoon.ipynb",
      "provenance": [],
      "authorship_tag": "ABX9TyNjFvx+3Z7NAhfhSvV6ij+Z",
      "include_colab_link": true
    },
    "kernelspec": {
      "name": "python3",
      "display_name": "Python 3"
    },
    "language_info": {
      "name": "python"
    }
  },
  "cells": [
    {
      "cell_type": "markdown",
      "metadata": {
        "id": "view-in-github",
        "colab_type": "text"
      },
      "source": [
        "<a href=\"https://colab.research.google.com/github/ChoSooBeen/ProgramSolve/blob/main/baekjoon.ipynb\" target=\"_parent\"><img src=\"https://colab.research.google.com/assets/colab-badge.svg\" alt=\"Open In Colab\"/></a>"
      ]
    },
    {
      "cell_type": "markdown",
      "source": [
        "10926"
      ],
      "metadata": {
        "id": "0VG75qzougrD"
      }
    },
    {
      "cell_type": "code",
      "execution_count": 43,
      "metadata": {
        "colab": {
          "base_uri": "https://localhost:8080/"
        },
        "id": "zhhX8_C2tpvS",
        "outputId": "dfe447d1-2699-41f4-fca4-f86db98178c0"
      },
      "outputs": [
        {
          "output_type": "stream",
          "name": "stdout",
          "text": [
            "jonas\n",
            "jonas??!\n"
          ]
        }
      ],
      "source": [
        "id = input()\n",
        "print(id+'??!')"
      ]
    },
    {
      "cell_type": "markdown",
      "source": [
        "18108"
      ],
      "metadata": {
        "id": "eJMGaq_Auo5R"
      }
    },
    {
      "cell_type": "code",
      "source": [
        "BE = int(input())\n",
        "print(BE - 543)"
      ],
      "metadata": {
        "colab": {
          "base_uri": "https://localhost:8080/"
        },
        "id": "ba8uMXOfusCi",
        "outputId": "5d27f513-9195-4cc2-f9c1-52c34742880f"
      },
      "execution_count": 7,
      "outputs": [
        {
          "output_type": "stream",
          "name": "stdout",
          "text": [
            "2541\n",
            "1998\n"
          ]
        }
      ]
    },
    {
      "cell_type": "markdown",
      "source": [
        "10171"
      ],
      "metadata": {
        "id": "5GT3HPbKg194"
      }
    },
    {
      "cell_type": "code",
      "source": [
        "print('\\    /\\\\')\n",
        "print(' )  ( \\')')\n",
        "print('(  /  )')\n",
        "print(' \\(__)|')"
      ],
      "metadata": {
        "colab": {
          "base_uri": "https://localhost:8080/"
        },
        "id": "fBNJdTB0g3k_",
        "outputId": "7f89ce91-e7e2-4d8d-a839-a8c64eacbeb6"
      },
      "execution_count": 5,
      "outputs": [
        {
          "output_type": "stream",
          "name": "stdout",
          "text": [
            "\\    /\\\n",
            " )  ( ')\n",
            "(  /  )\n",
            " \\(__)|\n"
          ]
        }
      ]
    },
    {
      "cell_type": "markdown",
      "source": [
        "2588"
      ],
      "metadata": {
        "id": "EMblAn6Uisf3"
      }
    },
    {
      "cell_type": "code",
      "source": [
        "num1 = int(input())\n",
        "num2 = int(input())\n",
        "hund = int(num2 / 100)\n",
        "ten = int(num2 % 100 / 10)\n",
        "one = num2 % 10\n",
        "\n",
        "print(num1 * one)\n",
        "print(num1 * ten)\n",
        "print(num1 * hund)\n",
        "print(num1 * num2)"
      ],
      "metadata": {
        "colab": {
          "base_uri": "https://localhost:8080/"
        },
        "id": "_dg93EE0iuCw",
        "outputId": "bb9f0151-4201-435a-ca97-66a65275f3d0"
      },
      "execution_count": 14,
      "outputs": [
        {
          "output_type": "stream",
          "name": "stdout",
          "text": [
            "472\n",
            "385\n",
            "2360\n",
            "3776\n",
            "1416\n",
            "181720\n"
          ]
        }
      ]
    },
    {
      "cell_type": "markdown",
      "source": [
        "25083"
      ],
      "metadata": {
        "id": "QbX9WO-Rlcd2"
      }
    },
    {
      "cell_type": "code",
      "source": [
        "print('         ,r\\'\\\"7')\n",
        "print('r`-_   ,\\'  ,/')\n",
        "print(' \\. \". L_r\\'')\n",
        "print('   `~\\/')\n",
        "print('      |')\n",
        "print('      |')"
      ],
      "metadata": {
        "colab": {
          "base_uri": "https://localhost:8080/"
        },
        "id": "Ghp0N4n3ld1-",
        "outputId": "505ec432-904c-4186-9b6b-e00dd85a1ded"
      },
      "execution_count": 15,
      "outputs": [
        {
          "output_type": "stream",
          "name": "stdout",
          "text": [
            "         ,r'\"7\n",
            "r`-_   ,'  ,/\n",
            " \\. \". L_r'\n",
            "   `~\\/\n",
            "      |\n",
            "      |\n"
          ]
        }
      ]
    },
    {
      "cell_type": "markdown",
      "source": [
        "1330"
      ],
      "metadata": {
        "id": "cLqfpLv1mGvG"
      }
    },
    {
      "cell_type": "code",
      "source": [
        "num = input().split(' ')\n",
        "A = int(num[0])\n",
        "B = int(num[1])\n",
        "\n",
        "if A < B:\n",
        "  print('<')\n",
        "elif A > B:\n",
        "  print('>')\n",
        "else:\n",
        "  print('==')"
      ],
      "metadata": {
        "colab": {
          "base_uri": "https://localhost:8080/"
        },
        "id": "THq2KvRBmH4t",
        "outputId": "6012610f-384c-4486-9070-c2f4b9016fb4"
      },
      "execution_count": 20,
      "outputs": [
        {
          "output_type": "stream",
          "name": "stdout",
          "text": [
            "4 4\n",
            "==\n"
          ]
        }
      ]
    },
    {
      "cell_type": "markdown",
      "source": [
        "14681"
      ],
      "metadata": {
        "id": "wh0q79VFsSJN"
      }
    },
    {
      "cell_type": "code",
      "source": [
        "x = int(input())\n",
        "y = int(input())\n",
        "\n",
        "if x > 0 and y > 0 :\n",
        "  print(1)\n",
        "elif x < 0 and y > 0 :\n",
        "  print(2)\n",
        "elif x < 0 and y < 0 :\n",
        "  print(3)\n",
        "else :\n",
        "  print(4)"
      ],
      "metadata": {
        "colab": {
          "base_uri": "https://localhost:8080/"
        },
        "id": "H3FdUVPdsTeE",
        "outputId": "81813857-10da-47ac-9166-2ece73200300"
      },
      "execution_count": 21,
      "outputs": [
        {
          "output_type": "stream",
          "name": "stdout",
          "text": [
            "3\n",
            "-5\n",
            "4\n"
          ]
        }
      ]
    },
    {
      "cell_type": "markdown",
      "source": [
        "2884"
      ],
      "metadata": {
        "id": "GJ4znWYktJCN"
      }
    },
    {
      "cell_type": "code",
      "source": [
        "time = input().split(' ')\n",
        "\n",
        "H = int(time[0])\n",
        "M = int(time[1])\n",
        "\n",
        "if M >= 45 :\n",
        "  print(H, M-45)\n",
        "else :\n",
        "  if H == 0:\n",
        "    H = 24\n",
        "  print(H-1, M+60-45)"
      ],
      "metadata": {
        "colab": {
          "base_uri": "https://localhost:8080/"
        },
        "id": "nEOh-SOetKCs",
        "outputId": "85e19247-2592-43f8-89a1-539d80e2dfe7"
      },
      "execution_count": 25,
      "outputs": [
        {
          "output_type": "stream",
          "name": "stdout",
          "text": [
            "23 40\n",
            "22 55\n"
          ]
        }
      ]
    },
    {
      "cell_type": "markdown",
      "source": [
        "2525\n",
        "\n",
        "\n",
        "\n",
        "*   틀렸던 이유 : 0 <= A(시) < 24\n",
        "*   A가 24보다 클 때 변환을 생각해야 했다.\n",
        "\n"
      ],
      "metadata": {
        "id": "OhtTdxrAu6gL"
      }
    },
    {
      "cell_type": "code",
      "source": [
        "time = input().split(' ')\n",
        "A = int(time[0])\n",
        "B = int(time[1])\n",
        "oven = int(input())\n",
        "\n",
        "B += oven\n",
        "\n",
        "if B >= 60 :\n",
        "  t = B // 60\n",
        "  A += t\n",
        "  B = B - (t * 60)\n",
        "\n",
        "if A >= 24:\n",
        "  A -= 24\n",
        "\n",
        "print(A, B)"
      ],
      "metadata": {
        "colab": {
          "base_uri": "https://localhost:8080/"
        },
        "id": "YLHhwbQxu5lb",
        "outputId": "db98dcdc-0e82-4dc6-8ce4-5551b3e23f0c"
      },
      "execution_count": 42,
      "outputs": [
        {
          "output_type": "stream",
          "name": "stdout",
          "text": [
            "23 50\n",
            "80\n",
            "1 10\n"
          ]
        }
      ]
    },
    {
      "cell_type": "markdown",
      "source": [
        "15552\n",
        "\n",
        "\n",
        "\n",
        "*  블로그 참고\n",
        " https://velog.io/@yeseolee/Python-%ED%8C%8C%EC%9D%B4%EC%8D%AC-%EC%9E%85%EB%A0%A5-%EC%A0%95%EB%A6%ACsys.stdin.readline\n",
        "*   colab에서는 왜 에러가 날까?\n",
        "\n"
      ],
      "metadata": {
        "id": "ZjIM-f3hMoT6"
      }
    },
    {
      "cell_type": "code",
      "source": [
        "import sys\n",
        "\n",
        "test_case = int(input())\n",
        "\n",
        "for i in range(test_case) :\n",
        "  A, B = map(int, sys.stdin.readline().split())\n",
        "  print(A+B)"
      ],
      "metadata": {
        "colab": {
          "base_uri": "https://localhost:8080/",
          "height": 248
        },
        "id": "EqOefEM2Mpgb",
        "outputId": "e3eb7587-3918-4770-bf6d-b0f8f31c7fcd"
      },
      "execution_count": 52,
      "outputs": [
        {
          "name": "stdout",
          "output_type": "stream",
          "text": [
            "3\n"
          ]
        },
        {
          "output_type": "error",
          "ename": "ValueError",
          "evalue": "ignored",
          "traceback": [
            "\u001b[0;31m---------------------------------------------------------------------------\u001b[0m",
            "\u001b[0;31mValueError\u001b[0m                                Traceback (most recent call last)",
            "\u001b[0;32m<ipython-input-52-81a7c5c345a1>\u001b[0m in \u001b[0;36m<module>\u001b[0;34m()\u001b[0m\n\u001b[1;32m      4\u001b[0m \u001b[0;34m\u001b[0m\u001b[0m\n\u001b[1;32m      5\u001b[0m \u001b[0;32mfor\u001b[0m \u001b[0mi\u001b[0m \u001b[0;32min\u001b[0m \u001b[0mrange\u001b[0m\u001b[0;34m(\u001b[0m\u001b[0mtest_case\u001b[0m\u001b[0;34m)\u001b[0m \u001b[0;34m:\u001b[0m\u001b[0;34m\u001b[0m\u001b[0;34m\u001b[0m\u001b[0m\n\u001b[0;32m----> 6\u001b[0;31m   \u001b[0mA\u001b[0m\u001b[0;34m,\u001b[0m \u001b[0mB\u001b[0m \u001b[0;34m=\u001b[0m \u001b[0mmap\u001b[0m\u001b[0;34m(\u001b[0m\u001b[0mint\u001b[0m\u001b[0;34m,\u001b[0m \u001b[0msys\u001b[0m\u001b[0;34m.\u001b[0m\u001b[0mstdin\u001b[0m\u001b[0;34m.\u001b[0m\u001b[0mreadline\u001b[0m\u001b[0;34m(\u001b[0m\u001b[0;34m)\u001b[0m\u001b[0;34m.\u001b[0m\u001b[0msplit\u001b[0m\u001b[0;34m(\u001b[0m\u001b[0;34m)\u001b[0m\u001b[0;34m)\u001b[0m\u001b[0;34m\u001b[0m\u001b[0;34m\u001b[0m\u001b[0m\n\u001b[0m\u001b[1;32m      7\u001b[0m   \u001b[0mprint\u001b[0m\u001b[0;34m(\u001b[0m\u001b[0mA\u001b[0m\u001b[0;34m+\u001b[0m\u001b[0mB\u001b[0m\u001b[0;34m)\u001b[0m\u001b[0;34m\u001b[0m\u001b[0;34m\u001b[0m\u001b[0m\n",
            "\u001b[0;31mValueError\u001b[0m: not enough values to unpack (expected 2, got 0)"
          ]
        }
      ]
    }
  ]
}